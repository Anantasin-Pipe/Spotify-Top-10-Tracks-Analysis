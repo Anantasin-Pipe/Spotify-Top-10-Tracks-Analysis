{
 "cells": [
  {
   "cell_type": "code",
   "execution_count": 1,
   "id": "5af48adf",
   "metadata": {},
   "outputs": [],
   "source": [
    "import pandas as pd"
   ]
  },
  {
   "cell_type": "code",
   "execution_count": 2,
   "id": "b371a3e9",
   "metadata": {},
   "outputs": [
    {
     "data": {
      "text/plain": [
       "(80, 9)"
      ]
     },
     "execution_count": 2,
     "metadata": {},
     "output_type": "execute_result"
    }
   ],
   "source": [
    "df = pd.read_csv('../data/artist_top10_track_clean.csv')\n",
    "df.shape"
   ]
  },
  {
   "cell_type": "code",
   "execution_count": null,
   "id": "a00ebb88",
   "metadata": {},
   "outputs": [
    {
     "name": "stdout",
     "output_type": "stream",
     "text": [
      "<class 'pandas.core.frame.DataFrame'>\n",
      "RangeIndex: 80 entries, 0 to 79\n",
      "Data columns (total 9 columns):\n",
      " #   Column                 Non-Null Count  Dtype \n",
      "---  ------                 --------------  ----- \n",
      " 0   Rank                   80 non-null     int64 \n",
      " 1   Albums                 80 non-null     object\n",
      " 2   Artist                 80 non-null     object\n",
      " 3   Name                   80 non-null     object\n",
      " 4   Popularity             80 non-null     int64 \n",
      " 5   Track Number In Album  80 non-null     int64 \n",
      " 6   Duration               80 non-null     int64 \n",
      " 7   Followers              80 non-null     int64 \n",
      " 8   Duration(min:sec)      80 non-null     object\n",
      "dtypes: int64(5), object(4)\n",
      "memory usage: 5.8+ KB\n"
     ]
    }
   ],
   "source": [
    "#Review data in dataframe\n",
    "df.info()"
   ]
  },
  {
   "cell_type": "code",
   "execution_count": null,
   "id": "f1d4d2b0",
   "metadata": {},
   "outputs": [
    {
     "data": {
      "text/html": [
       "<div>\n",
       "<style scoped>\n",
       "    .dataframe tbody tr th:only-of-type {\n",
       "        vertical-align: middle;\n",
       "    }\n",
       "\n",
       "    .dataframe tbody tr th {\n",
       "        vertical-align: top;\n",
       "    }\n",
       "\n",
       "    .dataframe thead th {\n",
       "        text-align: right;\n",
       "    }\n",
       "</style>\n",
       "<table border=\"1\" class=\"dataframe\">\n",
       "  <thead>\n",
       "    <tr style=\"text-align: right;\">\n",
       "      <th></th>\n",
       "      <th>Rank</th>\n",
       "      <th>Popularity</th>\n",
       "      <th>Track Number In Album</th>\n",
       "      <th>Duration</th>\n",
       "      <th>Followers</th>\n",
       "    </tr>\n",
       "  </thead>\n",
       "  <tbody>\n",
       "    <tr>\n",
       "      <th>count</th>\n",
       "      <td>80.000000</td>\n",
       "      <td>80.000000</td>\n",
       "      <td>80.000000</td>\n",
       "      <td>80.000000</td>\n",
       "      <td>8.000000e+01</td>\n",
       "    </tr>\n",
       "    <tr>\n",
       "      <th>mean</th>\n",
       "      <td>5.500000</td>\n",
       "      <td>58.350000</td>\n",
       "      <td>3.525000</td>\n",
       "      <td>228675.025000</td>\n",
       "      <td>2.425557e+06</td>\n",
       "    </tr>\n",
       "    <tr>\n",
       "      <th>std</th>\n",
       "      <td>2.890403</td>\n",
       "      <td>12.713095</td>\n",
       "      <td>3.638664</td>\n",
       "      <td>42046.522745</td>\n",
       "      <td>3.282709e+06</td>\n",
       "    </tr>\n",
       "    <tr>\n",
       "      <th>min</th>\n",
       "      <td>1.000000</td>\n",
       "      <td>36.000000</td>\n",
       "      <td>1.000000</td>\n",
       "      <td>126312.000000</td>\n",
       "      <td>1.993200e+04</td>\n",
       "    </tr>\n",
       "    <tr>\n",
       "      <th>25%</th>\n",
       "      <td>3.000000</td>\n",
       "      <td>46.000000</td>\n",
       "      <td>1.000000</td>\n",
       "      <td>196899.250000</td>\n",
       "      <td>1.829170e+05</td>\n",
       "    </tr>\n",
       "    <tr>\n",
       "      <th>50%</th>\n",
       "      <td>5.500000</td>\n",
       "      <td>60.500000</td>\n",
       "      <td>1.500000</td>\n",
       "      <td>226500.000000</td>\n",
       "      <td>1.094398e+06</td>\n",
       "    </tr>\n",
       "    <tr>\n",
       "      <th>75%</th>\n",
       "      <td>8.000000</td>\n",
       "      <td>67.250000</td>\n",
       "      <td>6.000000</td>\n",
       "      <td>259668.000000</td>\n",
       "      <td>2.825187e+06</td>\n",
       "    </tr>\n",
       "    <tr>\n",
       "      <th>max</th>\n",
       "      <td>10.000000</td>\n",
       "      <td>85.000000</td>\n",
       "      <td>17.000000</td>\n",
       "      <td>337240.000000</td>\n",
       "      <td>1.027647e+07</td>\n",
       "    </tr>\n",
       "  </tbody>\n",
       "</table>\n",
       "</div>"
      ],
      "text/plain": [
       "            Rank  Popularity  Track Number In Album       Duration  \\\n",
       "count  80.000000   80.000000              80.000000      80.000000   \n",
       "mean    5.500000   58.350000               3.525000  228675.025000   \n",
       "std     2.890403   12.713095               3.638664   42046.522745   \n",
       "min     1.000000   36.000000               1.000000  126312.000000   \n",
       "25%     3.000000   46.000000               1.000000  196899.250000   \n",
       "50%     5.500000   60.500000               1.500000  226500.000000   \n",
       "75%     8.000000   67.250000               6.000000  259668.000000   \n",
       "max    10.000000   85.000000              17.000000  337240.000000   \n",
       "\n",
       "          Followers  \n",
       "count  8.000000e+01  \n",
       "mean   2.425557e+06  \n",
       "std    3.282709e+06  \n",
       "min    1.993200e+04  \n",
       "25%    1.829170e+05  \n",
       "50%    1.094398e+06  \n",
       "75%    2.825187e+06  \n",
       "max    1.027647e+07  "
      ]
     },
     "execution_count": 4,
     "metadata": {},
     "output_type": "execute_result"
    }
   ],
   "source": [
    "#Basic Statistical Overview of the Dataset\n",
    "df.describe()"
   ]
  },
  {
   "cell_type": "code",
   "execution_count": null,
   "id": "4de768ed",
   "metadata": {},
   "outputs": [
    {
     "data": {
      "text/html": [
       "<div>\n",
       "<style scoped>\n",
       "    .dataframe tbody tr th:only-of-type {\n",
       "        vertical-align: middle;\n",
       "    }\n",
       "\n",
       "    .dataframe tbody tr th {\n",
       "        vertical-align: top;\n",
       "    }\n",
       "\n",
       "    .dataframe thead th {\n",
       "        text-align: right;\n",
       "    }\n",
       "</style>\n",
       "<table border=\"1\" class=\"dataframe\">\n",
       "  <thead>\n",
       "    <tr style=\"text-align: right;\">\n",
       "      <th></th>\n",
       "      <th>Rank</th>\n",
       "      <th>Albums</th>\n",
       "      <th>Artist</th>\n",
       "      <th>Name</th>\n",
       "      <th>Popularity</th>\n",
       "      <th>Track Number In Album</th>\n",
       "      <th>Duration</th>\n",
       "      <th>Followers</th>\n",
       "      <th>Duration(min:sec)</th>\n",
       "    </tr>\n",
       "  </thead>\n",
       "  <tbody>\n",
       "    <tr>\n",
       "      <th>0</th>\n",
       "      <td>1</td>\n",
       "      <td>PUN</td>\n",
       "      <td>PUN</td>\n",
       "      <td>ที่เดิม</td>\n",
       "      <td>71</td>\n",
       "      <td>9</td>\n",
       "      <td>236062</td>\n",
       "      <td>606188</td>\n",
       "      <td>3:56</td>\n",
       "    </tr>\n",
       "    <tr>\n",
       "      <th>1</th>\n",
       "      <td>2</td>\n",
       "      <td>PUN</td>\n",
       "      <td>PUN</td>\n",
       "      <td>I Just Wanna Know</td>\n",
       "      <td>69</td>\n",
       "      <td>1</td>\n",
       "      <td>223500</td>\n",
       "      <td>606188</td>\n",
       "      <td>3:43</td>\n",
       "    </tr>\n",
       "    <tr>\n",
       "      <th>2</th>\n",
       "      <td>3</td>\n",
       "      <td>Living Death</td>\n",
       "      <td>PUN</td>\n",
       "      <td>Living Death</td>\n",
       "      <td>69</td>\n",
       "      <td>1</td>\n",
       "      <td>258823</td>\n",
       "      <td>606188</td>\n",
       "      <td>4:18</td>\n",
       "    </tr>\n",
       "  </tbody>\n",
       "</table>\n",
       "</div>"
      ],
      "text/plain": [
       "   Rank        Albums Artist               Name  Popularity  \\\n",
       "0     1           PUN    PUN            ที่เดิม          71   \n",
       "1     2           PUN    PUN  I Just Wanna Know          69   \n",
       "2     3  Living Death    PUN       Living Death          69   \n",
       "\n",
       "   Track Number In Album  Duration  Followers Duration(min:sec)  \n",
       "0                      9    236062     606188              3:56  \n",
       "1                      1    223500     606188              3:43  \n",
       "2                      1    258823     606188              4:18  "
      ]
     },
     "execution_count": 5,
     "metadata": {},
     "output_type": "execute_result"
    }
   ],
   "source": [
    "#Get data from input index\n",
    "df.loc[0:2]"
   ]
  },
  {
   "cell_type": "code",
   "execution_count": null,
   "id": "fe382a4f",
   "metadata": {},
   "outputs": [
    {
     "data": {
      "text/plain": [
       "Rank                      9\n",
       "Albums                   16\n",
       "Artist                   20\n",
       "Name                     72\n",
       "Popularity               30\n",
       "Track Number In Album    36\n",
       "Duration                 43\n",
       "Followers                30\n",
       "Duration(min:sec)        43\n",
       "dtype: int64"
      ]
     },
     "execution_count": 6,
     "metadata": {},
     "output_type": "execute_result"
    }
   ],
   "source": [
    "#Get index of most value in each dataframe column  \n",
    "df.idxmax() "
   ]
  },
  {
   "cell_type": "code",
   "execution_count": null,
   "id": "050f05dc",
   "metadata": {},
   "outputs": [
    {
     "data": {
      "text/plain": [
       "Rank                                 1\n",
       "Albums                     SMITHEREENS\n",
       "Artist                            Joji\n",
       "Name                     Glimpse of Us\n",
       "Popularity                          85\n",
       "Track Number In Album                1\n",
       "Duration                        233453\n",
       "Followers                     10276473\n",
       "Duration(min:sec)                 3:53\n",
       "Name: 30, dtype: object"
      ]
     },
     "execution_count": 7,
     "metadata": {},
     "output_type": "execute_result"
    }
   ],
   "source": [
    "#Find the most popular track\n",
    "index_of_most_popular_song = df['Popularity'].idxmax()\n",
    "most_popular_song = df.loc[index_of_most_popular_song]\n",
    "most_popular_song"
   ]
  },
  {
   "cell_type": "code",
   "execution_count": null,
   "id": "cf33d733",
   "metadata": {},
   "outputs": [
    {
     "data": {
      "text/plain": [
       "Artist\n",
       "Joji             76.4\n",
       "Fujii Kaze       68.1\n",
       "PUN              64.5\n",
       "Cocktail         63.2\n",
       "THE TOYS         55.6\n",
       "Paul Partohap    55.0\n",
       "oftn             43.0\n",
       "J_ust            41.0\n",
       "Name: Popularity, dtype: float64"
      ]
     },
     "execution_count": 8,
     "metadata": {},
     "output_type": "execute_result"
    }
   ],
   "source": [
    "#Sort artists by their average track popularity\n",
    "artist_popularity = df.groupby('Artist')['Popularity'].mean().sort_values(ascending=False)\n",
    "artist_popularity"
   ]
  },
  {
   "cell_type": "code",
   "execution_count": null,
   "id": "28526971",
   "metadata": {},
   "outputs": [
    {
     "data": {
      "text/html": [
       "<div>\n",
       "<style scoped>\n",
       "    .dataframe tbody tr th:only-of-type {\n",
       "        vertical-align: middle;\n",
       "    }\n",
       "\n",
       "    .dataframe tbody tr th {\n",
       "        vertical-align: top;\n",
       "    }\n",
       "\n",
       "    .dataframe thead th {\n",
       "        text-align: right;\n",
       "    }\n",
       "</style>\n",
       "<table border=\"1\" class=\"dataframe\">\n",
       "  <thead>\n",
       "    <tr style=\"text-align: right;\">\n",
       "      <th></th>\n",
       "      <th>Artist</th>\n",
       "      <th>Followers</th>\n",
       "    </tr>\n",
       "  </thead>\n",
       "  <tbody>\n",
       "    <tr>\n",
       "      <th>0</th>\n",
       "      <td>Joji</td>\n",
       "      <td>10276473</td>\n",
       "    </tr>\n",
       "    <tr>\n",
       "      <th>1</th>\n",
       "      <td>Fujii Kaze</td>\n",
       "      <td>4261433</td>\n",
       "    </tr>\n",
       "    <tr>\n",
       "      <th>2</th>\n",
       "      <td>Cocktail</td>\n",
       "      <td>2346438</td>\n",
       "    </tr>\n",
       "    <tr>\n",
       "      <th>3</th>\n",
       "      <td>THE TOYS</td>\n",
       "      <td>1582608</td>\n",
       "    </tr>\n",
       "    <tr>\n",
       "      <th>4</th>\n",
       "      <td>PUN</td>\n",
       "      <td>606188</td>\n",
       "    </tr>\n",
       "    <tr>\n",
       "      <th>5</th>\n",
       "      <td>Paul Partohap</td>\n",
       "      <td>210142</td>\n",
       "    </tr>\n",
       "    <tr>\n",
       "      <th>6</th>\n",
       "      <td>J_ust</td>\n",
       "      <td>101242</td>\n",
       "    </tr>\n",
       "    <tr>\n",
       "      <th>7</th>\n",
       "      <td>oftn</td>\n",
       "      <td>19932</td>\n",
       "    </tr>\n",
       "  </tbody>\n",
       "</table>\n",
       "</div>"
      ],
      "text/plain": [
       "          Artist  Followers\n",
       "0           Joji   10276473\n",
       "1     Fujii Kaze    4261433\n",
       "2       Cocktail    2346438\n",
       "3       THE TOYS    1582608\n",
       "4            PUN     606188\n",
       "5  Paul Partohap     210142\n",
       "6          J_ust     101242\n",
       "7           oftn      19932"
      ]
     },
     "execution_count": 9,
     "metadata": {},
     "output_type": "execute_result"
    }
   ],
   "source": [
    "#Sort artists by the number of followers\n",
    "#Use double square brackets [[]] to select multiple columns and return a DataFrame.\n",
    "#A single pair of brackets [] returns a Series (one column only).\n",
    "artist_follower = df[['Artist','Followers']].drop_duplicates().sort_values(by='Followers', ascending=False, ignore_index=True,)\n",
    "artist_follower"
   ]
  },
  {
   "cell_type": "code",
   "execution_count": null,
   "id": "470e3be9",
   "metadata": {},
   "outputs": [
    {
     "data": {
      "text/plain": [
       "Rank                                 1\n",
       "Albums                     SMITHEREENS\n",
       "Artist                            Joji\n",
       "Name                     Glimpse of Us\n",
       "Popularity                          85\n",
       "Track Number In Album                1\n",
       "Duration                        233453\n",
       "Followers                     10276473\n",
       "Duration(min:sec)                 3:53\n",
       "Name: 30, dtype: object"
      ]
     },
     "execution_count": 10,
     "metadata": {},
     "output_type": "execute_result"
    }
   ],
   "source": [
    "#Find the artist with the highest number of followers\n",
    "most_follower_idx = df['Followers'].idxmax()\n",
    "most_follower = df.loc[most_follower_idx]\n",
    "most_follower"
   ]
  },
  {
   "cell_type": "code",
   "execution_count": null,
   "id": "61c4a323",
   "metadata": {},
   "outputs": [
    {
     "data": {
      "text/plain": [
       "Artist\n",
       "Cocktail         4:34\n",
       "Fujii Kaze       4:19\n",
       "PUN              4:00\n",
       "J_ust            3:54\n",
       "Paul Partohap    3:46\n",
       "THE TOYS         3:20\n",
       "Joji             3:18\n",
       "oftn             3:15\n",
       "Name: Duration, dtype: object"
      ]
     },
     "execution_count": 11,
     "metadata": {},
     "output_type": "execute_result"
    }
   ],
   "source": [
    "#Calculate the average song duration for each artist\n",
    "song_mean = df.groupby('Artist')['Duration'].mean().sort_values(ascending=False)\n",
    "song_mean_format = song_mean.apply(lambda x: f'{int(x//60000)}:{int((x%60000)/1000):02}')\n",
    "song_mean_format\n"
   ]
  }
 ],
 "metadata": {
  "kernelspec": {
   "display_name": "spotify_env",
   "language": "python",
   "name": "python3"
  },
  "language_info": {
   "codemirror_mode": {
    "name": "ipython",
    "version": 3
   },
   "file_extension": ".py",
   "mimetype": "text/x-python",
   "name": "python",
   "nbconvert_exporter": "python",
   "pygments_lexer": "ipython3",
   "version": "3.9.13"
  }
 },
 "nbformat": 4,
 "nbformat_minor": 5
}
