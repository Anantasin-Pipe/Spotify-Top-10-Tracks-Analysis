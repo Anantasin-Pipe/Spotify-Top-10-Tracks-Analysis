{
 "cells": [
  {
   "cell_type": "code",
   "execution_count": 16,
   "id": "5af48adf",
   "metadata": {},
   "outputs": [],
   "source": [
    "import pandas as pd"
   ]
  },
  {
   "cell_type": "code",
   "execution_count": 17,
   "id": "b371a3e9",
   "metadata": {},
   "outputs": [
    {
     "data": {
      "text/plain": [
       "(80, 9)"
      ]
     },
     "execution_count": 17,
     "metadata": {},
     "output_type": "execute_result"
    }
   ],
   "source": [
    "df = pd.read_csv('../data/artist_top10_track_clean.csv')\n",
    "df.shape"
   ]
  },
  {
   "cell_type": "code",
   "execution_count": 18,
   "id": "a00ebb88",
   "metadata": {},
   "outputs": [
    {
     "name": "stdout",
     "output_type": "stream",
     "text": [
      "<class 'pandas.core.frame.DataFrame'>\n",
      "RangeIndex: 80 entries, 0 to 79\n",
      "Data columns (total 9 columns):\n",
      " #   Column              Non-Null Count  Dtype \n",
      "---  ------              --------------  ----- \n",
      " 0   track_rank          80 non-null     int64 \n",
      " 1   album               80 non-null     object\n",
      " 2   artist              80 non-null     object\n",
      " 3   track_name          80 non-null     object\n",
      " 4   popularity          80 non-null     int64 \n",
      " 5   track_in_album      80 non-null     int64 \n",
      " 6   duration            80 non-null     int64 \n",
      " 7   follower            80 non-null     int64 \n",
      " 8   duration_formatted  80 non-null     object\n",
      "dtypes: int64(5), object(4)\n",
      "memory usage: 5.8+ KB\n"
     ]
    }
   ],
   "source": [
    "#Review data in dataframe\n",
    "df.info()"
   ]
  },
  {
   "cell_type": "code",
   "execution_count": 19,
   "id": "f1d4d2b0",
   "metadata": {},
   "outputs": [
    {
     "data": {
      "text/html": [
       "<div>\n",
       "<style scoped>\n",
       "    .dataframe tbody tr th:only-of-type {\n",
       "        vertical-align: middle;\n",
       "    }\n",
       "\n",
       "    .dataframe tbody tr th {\n",
       "        vertical-align: top;\n",
       "    }\n",
       "\n",
       "    .dataframe thead th {\n",
       "        text-align: right;\n",
       "    }\n",
       "</style>\n",
       "<table border=\"1\" class=\"dataframe\">\n",
       "  <thead>\n",
       "    <tr style=\"text-align: right;\">\n",
       "      <th></th>\n",
       "      <th>track_rank</th>\n",
       "      <th>popularity</th>\n",
       "      <th>track_in_album</th>\n",
       "      <th>duration</th>\n",
       "      <th>follower</th>\n",
       "    </tr>\n",
       "  </thead>\n",
       "  <tbody>\n",
       "    <tr>\n",
       "      <th>count</th>\n",
       "      <td>80.000000</td>\n",
       "      <td>80.000000</td>\n",
       "      <td>80.000000</td>\n",
       "      <td>80.000000</td>\n",
       "      <td>8.000000e+01</td>\n",
       "    </tr>\n",
       "    <tr>\n",
       "      <th>mean</th>\n",
       "      <td>5.500000</td>\n",
       "      <td>58.200000</td>\n",
       "      <td>3.525000</td>\n",
       "      <td>228675.025000</td>\n",
       "      <td>2.428132e+06</td>\n",
       "    </tr>\n",
       "    <tr>\n",
       "      <th>std</th>\n",
       "      <td>2.890403</td>\n",
       "      <td>12.719366</td>\n",
       "      <td>3.638664</td>\n",
       "      <td>42046.522745</td>\n",
       "      <td>3.283280e+06</td>\n",
       "    </tr>\n",
       "    <tr>\n",
       "      <th>min</th>\n",
       "      <td>1.000000</td>\n",
       "      <td>35.000000</td>\n",
       "      <td>1.000000</td>\n",
       "      <td>126312.000000</td>\n",
       "      <td>2.000000e+04</td>\n",
       "    </tr>\n",
       "    <tr>\n",
       "      <th>25%</th>\n",
       "      <td>3.000000</td>\n",
       "      <td>46.000000</td>\n",
       "      <td>1.000000</td>\n",
       "      <td>196899.250000</td>\n",
       "      <td>1.833770e+05</td>\n",
       "    </tr>\n",
       "    <tr>\n",
       "      <th>50%</th>\n",
       "      <td>5.500000</td>\n",
       "      <td>59.500000</td>\n",
       "      <td>1.500000</td>\n",
       "      <td>226500.000000</td>\n",
       "      <td>1.096752e+06</td>\n",
       "    </tr>\n",
       "    <tr>\n",
       "      <th>75%</th>\n",
       "      <td>8.000000</td>\n",
       "      <td>67.000000</td>\n",
       "      <td>6.000000</td>\n",
       "      <td>259668.000000</td>\n",
       "      <td>2.832424e+06</td>\n",
       "    </tr>\n",
       "    <tr>\n",
       "      <th>max</th>\n",
       "      <td>10.000000</td>\n",
       "      <td>85.000000</td>\n",
       "      <td>17.000000</td>\n",
       "      <td>337240.000000</td>\n",
       "      <td>1.027833e+07</td>\n",
       "    </tr>\n",
       "  </tbody>\n",
       "</table>\n",
       "</div>"
      ],
      "text/plain": [
       "       track_rank  popularity  track_in_album       duration      follower\n",
       "count   80.000000   80.000000       80.000000      80.000000  8.000000e+01\n",
       "mean     5.500000   58.200000        3.525000  228675.025000  2.428132e+06\n",
       "std      2.890403   12.719366        3.638664   42046.522745  3.283280e+06\n",
       "min      1.000000   35.000000        1.000000  126312.000000  2.000000e+04\n",
       "25%      3.000000   46.000000        1.000000  196899.250000  1.833770e+05\n",
       "50%      5.500000   59.500000        1.500000  226500.000000  1.096752e+06\n",
       "75%      8.000000   67.000000        6.000000  259668.000000  2.832424e+06\n",
       "max     10.000000   85.000000       17.000000  337240.000000  1.027833e+07"
      ]
     },
     "execution_count": 19,
     "metadata": {},
     "output_type": "execute_result"
    }
   ],
   "source": [
    "#Basic Statistical Overview of the Dataset\n",
    "df.describe()"
   ]
  },
  {
   "cell_type": "code",
   "execution_count": 20,
   "id": "4de768ed",
   "metadata": {},
   "outputs": [
    {
     "data": {
      "text/html": [
       "<div>\n",
       "<style scoped>\n",
       "    .dataframe tbody tr th:only-of-type {\n",
       "        vertical-align: middle;\n",
       "    }\n",
       "\n",
       "    .dataframe tbody tr th {\n",
       "        vertical-align: top;\n",
       "    }\n",
       "\n",
       "    .dataframe thead th {\n",
       "        text-align: right;\n",
       "    }\n",
       "</style>\n",
       "<table border=\"1\" class=\"dataframe\">\n",
       "  <thead>\n",
       "    <tr style=\"text-align: right;\">\n",
       "      <th></th>\n",
       "      <th>track_rank</th>\n",
       "      <th>album</th>\n",
       "      <th>artist</th>\n",
       "      <th>track_name</th>\n",
       "      <th>popularity</th>\n",
       "      <th>track_in_album</th>\n",
       "      <th>duration</th>\n",
       "      <th>follower</th>\n",
       "      <th>duration_formatted</th>\n",
       "    </tr>\n",
       "  </thead>\n",
       "  <tbody>\n",
       "    <tr>\n",
       "      <th>0</th>\n",
       "      <td>1</td>\n",
       "      <td>PUN</td>\n",
       "      <td>PUN</td>\n",
       "      <td>ที่เดิม</td>\n",
       "      <td>71</td>\n",
       "      <td>9</td>\n",
       "      <td>236062</td>\n",
       "      <td>610084</td>\n",
       "      <td>3:56</td>\n",
       "    </tr>\n",
       "    <tr>\n",
       "      <th>1</th>\n",
       "      <td>2</td>\n",
       "      <td>PUN</td>\n",
       "      <td>PUN</td>\n",
       "      <td>I Just Wanna Know</td>\n",
       "      <td>69</td>\n",
       "      <td>1</td>\n",
       "      <td>223500</td>\n",
       "      <td>610084</td>\n",
       "      <td>3:43</td>\n",
       "    </tr>\n",
       "    <tr>\n",
       "      <th>2</th>\n",
       "      <td>3</td>\n",
       "      <td>Living Death</td>\n",
       "      <td>PUN</td>\n",
       "      <td>Living Death</td>\n",
       "      <td>68</td>\n",
       "      <td>1</td>\n",
       "      <td>258823</td>\n",
       "      <td>610084</td>\n",
       "      <td>4:18</td>\n",
       "    </tr>\n",
       "  </tbody>\n",
       "</table>\n",
       "</div>"
      ],
      "text/plain": [
       "   track_rank         album artist         track_name  popularity  \\\n",
       "0           1           PUN    PUN            ที่เดิม          71   \n",
       "1           2           PUN    PUN  I Just Wanna Know          69   \n",
       "2           3  Living Death    PUN       Living Death          68   \n",
       "\n",
       "   track_in_album  duration  follower duration_formatted  \n",
       "0               9    236062    610084               3:56  \n",
       "1               1    223500    610084               3:43  \n",
       "2               1    258823    610084               4:18  "
      ]
     },
     "execution_count": 20,
     "metadata": {},
     "output_type": "execute_result"
    }
   ],
   "source": [
    "#Get data from input index\n",
    "df.loc[0:2]"
   ]
  },
  {
   "cell_type": "code",
   "execution_count": 21,
   "id": "fe382a4f",
   "metadata": {},
   "outputs": [
    {
     "data": {
      "text/plain": [
       "track_rank             9\n",
       "album                 16\n",
       "artist                20\n",
       "track_name            72\n",
       "popularity            30\n",
       "track_in_album        36\n",
       "duration              43\n",
       "follower              30\n",
       "duration_formatted    43\n",
       "dtype: int64"
      ]
     },
     "execution_count": 21,
     "metadata": {},
     "output_type": "execute_result"
    }
   ],
   "source": [
    "#Get index of most value in each dataframe column  \n",
    "df.idxmax() "
   ]
  },
  {
   "cell_type": "code",
   "execution_count": 22,
   "id": "050f05dc",
   "metadata": {},
   "outputs": [
    {
     "data": {
      "text/plain": [
       "track_rank                        1\n",
       "album                   SMITHEREENS\n",
       "artist                         Joji\n",
       "track_name            Glimpse of Us\n",
       "popularity                       85\n",
       "track_in_album                    1\n",
       "duration                     233453\n",
       "follower                   10278328\n",
       "duration_formatted             3:53\n",
       "Name: 30, dtype: object"
      ]
     },
     "execution_count": 22,
     "metadata": {},
     "output_type": "execute_result"
    }
   ],
   "source": [
    "#Find the most popular track\n",
    "index_of_most_popular_song = df['popularity'].idxmax()\n",
    "most_popular_song = df.loc[index_of_most_popular_song]\n",
    "most_popular_song"
   ]
  },
  {
   "cell_type": "code",
   "execution_count": 23,
   "id": "cf33d733",
   "metadata": {},
   "outputs": [
    {
     "data": {
      "text/plain": [
       "artist\n",
       "Joji             76.3\n",
       "Fujii Kaze       67.6\n",
       "PUN              64.5\n",
       "Cocktail         63.1\n",
       "THE TOYS         55.5\n",
       "Paul Partohap    54.9\n",
       "oftn             42.6\n",
       "J_ust            41.1\n",
       "Name: popularity, dtype: float64"
      ]
     },
     "execution_count": 23,
     "metadata": {},
     "output_type": "execute_result"
    }
   ],
   "source": [
    "#Sort artists by their average track popularity\n",
    "artist_popularity = df.groupby('artist')['popularity'].mean().sort_values(ascending=False)\n",
    "artist_popularity"
   ]
  },
  {
   "cell_type": "code",
   "execution_count": 24,
   "id": "28526971",
   "metadata": {},
   "outputs": [
    {
     "data": {
      "text/html": [
       "<div>\n",
       "<style scoped>\n",
       "    .dataframe tbody tr th:only-of-type {\n",
       "        vertical-align: middle;\n",
       "    }\n",
       "\n",
       "    .dataframe tbody tr th {\n",
       "        vertical-align: top;\n",
       "    }\n",
       "\n",
       "    .dataframe thead th {\n",
       "        text-align: right;\n",
       "    }\n",
       "</style>\n",
       "<table border=\"1\" class=\"dataframe\">\n",
       "  <thead>\n",
       "    <tr style=\"text-align: right;\">\n",
       "      <th></th>\n",
       "      <th>artist</th>\n",
       "      <th>follower</th>\n",
       "    </tr>\n",
       "  </thead>\n",
       "  <tbody>\n",
       "    <tr>\n",
       "      <th>0</th>\n",
       "      <td>Joji</td>\n",
       "      <td>10278328</td>\n",
       "    </tr>\n",
       "    <tr>\n",
       "      <th>1</th>\n",
       "      <td>Fujii Kaze</td>\n",
       "      <td>4266974</td>\n",
       "    </tr>\n",
       "    <tr>\n",
       "      <th>2</th>\n",
       "      <td>Cocktail</td>\n",
       "      <td>2354241</td>\n",
       "    </tr>\n",
       "    <tr>\n",
       "      <th>3</th>\n",
       "      <td>THE TOYS</td>\n",
       "      <td>1583421</td>\n",
       "    </tr>\n",
       "    <tr>\n",
       "      <th>4</th>\n",
       "      <td>PUN</td>\n",
       "      <td>610084</td>\n",
       "    </tr>\n",
       "    <tr>\n",
       "      <th>5</th>\n",
       "      <td>Paul Partohap</td>\n",
       "      <td>210749</td>\n",
       "    </tr>\n",
       "    <tr>\n",
       "      <th>6</th>\n",
       "      <td>J_ust</td>\n",
       "      <td>101261</td>\n",
       "    </tr>\n",
       "    <tr>\n",
       "      <th>7</th>\n",
       "      <td>oftn</td>\n",
       "      <td>20000</td>\n",
       "    </tr>\n",
       "  </tbody>\n",
       "</table>\n",
       "</div>"
      ],
      "text/plain": [
       "          artist  follower\n",
       "0           Joji  10278328\n",
       "1     Fujii Kaze   4266974\n",
       "2       Cocktail   2354241\n",
       "3       THE TOYS   1583421\n",
       "4            PUN    610084\n",
       "5  Paul Partohap    210749\n",
       "6          J_ust    101261\n",
       "7           oftn     20000"
      ]
     },
     "execution_count": 24,
     "metadata": {},
     "output_type": "execute_result"
    }
   ],
   "source": [
    "#Sort artists by the number of followers\n",
    "#Use double square brackets [[]] to select multiple columns and return a DataFrame.\n",
    "#A single pair of brackets [] returns a Series (one column only).\n",
    "artist_follower = df[['artist','follower']].drop_duplicates().sort_values(by='follower', ascending=False, ignore_index=True,)\n",
    "artist_follower"
   ]
  },
  {
   "cell_type": "code",
   "execution_count": 25,
   "id": "470e3be9",
   "metadata": {},
   "outputs": [
    {
     "data": {
      "text/plain": [
       "track_rank                        1\n",
       "album                   SMITHEREENS\n",
       "artist                         Joji\n",
       "track_name            Glimpse of Us\n",
       "popularity                       85\n",
       "track_in_album                    1\n",
       "duration                     233453\n",
       "follower                   10278328\n",
       "duration_formatted             3:53\n",
       "Name: 30, dtype: object"
      ]
     },
     "execution_count": 25,
     "metadata": {},
     "output_type": "execute_result"
    }
   ],
   "source": [
    "#Find the artist with the highest number of followers\n",
    "most_follower_idx = df['follower'].idxmax()\n",
    "most_follower = df.loc[most_follower_idx]\n",
    "most_follower"
   ]
  },
  {
   "cell_type": "code",
   "execution_count": 26,
   "id": "61c4a323",
   "metadata": {},
   "outputs": [
    {
     "data": {
      "text/plain": [
       "artist\n",
       "Cocktail         4:34\n",
       "Fujii Kaze       4:19\n",
       "PUN              4:00\n",
       "J_ust            3:54\n",
       "Paul Partohap    3:46\n",
       "THE TOYS         3:20\n",
       "Joji             3:18\n",
       "oftn             3:15\n",
       "Name: duration, dtype: object"
      ]
     },
     "execution_count": 26,
     "metadata": {},
     "output_type": "execute_result"
    }
   ],
   "source": [
    "#Calculate the average song duration for each artist\n",
    "song_mean = df.groupby('artist')['duration'].mean().sort_values(ascending=False)\n",
    "song_mean_format = song_mean.apply(lambda x: f'{int(x//60000)}:{int((x%60000)/1000):02}')\n",
    "song_mean_format\n"
   ]
  }
 ],
 "metadata": {
  "kernelspec": {
   "display_name": "spotify_env",
   "language": "python",
   "name": "python3"
  },
  "language_info": {
   "codemirror_mode": {
    "name": "ipython",
    "version": 3
   },
   "file_extension": ".py",
   "mimetype": "text/x-python",
   "name": "python",
   "nbconvert_exporter": "python",
   "pygments_lexer": "ipython3",
   "version": "3.9.13"
  }
 },
 "nbformat": 4,
 "nbformat_minor": 5
}
