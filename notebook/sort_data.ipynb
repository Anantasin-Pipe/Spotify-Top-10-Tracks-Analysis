{
 "cells": [
  {
   "cell_type": "code",
   "execution_count": 1,
   "id": "dffa711c",
   "metadata": {},
   "outputs": [],
   "source": [
    "import pandas as pd\n"
   ]
  },
  {
   "cell_type": "code",
   "execution_count": 2,
   "id": "131bd57d",
   "metadata": {},
   "outputs": [
    {
     "data": {
      "text/plain": [
       "(80, 8)"
      ]
     },
     "execution_count": 2,
     "metadata": {},
     "output_type": "execute_result"
    }
   ],
   "source": [
    "#Read CSV file\n",
    "df = pd.read_csv('../data/artist_top10_track_raw.csv')\n",
    "df.shape"
   ]
  },
  {
   "cell_type": "code",
   "execution_count": 3,
   "id": "01eaee35",
   "metadata": {},
   "outputs": [
    {
     "data": {
      "text/plain": [
       "pandas.core.frame.DataFrame"
      ]
     },
     "execution_count": 3,
     "metadata": {},
     "output_type": "execute_result"
    }
   ],
   "source": [
    "type(df)\n"
   ]
  },
  {
   "cell_type": "code",
   "execution_count": null,
   "id": "f2ea0a3a",
   "metadata": {},
   "outputs": [
    {
     "data": {
      "text/plain": [
       "Index(['Rank', 'Albums', 'Artist', 'Name', 'Popularity',\n",
       "       'Track Number In Album', 'Duration', 'Followers'],\n",
       "      dtype='object')"
      ]
     },
     "execution_count": 4,
     "metadata": {},
     "output_type": "execute_result"
    }
   ],
   "source": [
    "#Review key in dataframe\n",
    "df.keys()"
   ]
  },
  {
   "cell_type": "code",
   "execution_count": 5,
   "id": "bf626622",
   "metadata": {},
   "outputs": [
    {
     "data": {
      "text/plain": [
       "0     3:56\n",
       "1     3:43\n",
       "2     4:18\n",
       "3     4:31\n",
       "4     5:10\n",
       "      ... \n",
       "75    3:49\n",
       "76    4:06\n",
       "77    4:54\n",
       "78    5:20\n",
       "79    4:37\n",
       "Name: Duration, Length: 80, dtype: object"
      ]
     },
     "execution_count": 5,
     "metadata": {},
     "output_type": "execute_result"
    }
   ],
   "source": [
    "#Format Duration  \n",
    "df['Duration']\n",
    "format_time = df['Duration'].apply(lambda x: f'{x//60000}:{(x%60000)//1000:02}')\n",
    "format_time"
   ]
  },
  {
   "cell_type": "code",
   "execution_count": 6,
   "id": "ca4413e2",
   "metadata": {},
   "outputs": [
    {
     "data": {
      "text/plain": [
       "Index(['Rank', 'Albums', 'Artist', 'Name', 'Popularity',\n",
       "       'Track Number In Album', 'Duration', 'Followers', 'Duration(min:sec)'],\n",
       "      dtype='object')"
      ]
     },
     "execution_count": 6,
     "metadata": {},
     "output_type": "execute_result"
    }
   ],
   "source": [
    "#Add key to dataframe \n",
    "df[\"Duration(min:sec)\"] = format_time\n",
    "df.keys()"
   ]
  },
  {
   "cell_type": "code",
   "execution_count": 7,
   "id": "64767cd5",
   "metadata": {},
   "outputs": [],
   "source": [
    "#Export csv file\n",
    "df.to_csv('../data/artist_top10_track_clean.csv', index = False)"
   ]
  }
 ],
 "metadata": {
  "kernelspec": {
   "display_name": "spotify_env",
   "language": "python",
   "name": "python3"
  },
  "language_info": {
   "codemirror_mode": {
    "name": "ipython",
    "version": 3
   },
   "file_extension": ".py",
   "mimetype": "text/x-python",
   "name": "python",
   "nbconvert_exporter": "python",
   "pygments_lexer": "ipython3",
   "version": "3.9.13"
  }
 },
 "nbformat": 4,
 "nbformat_minor": 5
}
